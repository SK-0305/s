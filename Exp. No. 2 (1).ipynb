{
 "cells": [
  {
   "cell_type": "markdown",
   "id": "79ca1219-5c78-45dd-8985-e92b08abd070",
   "metadata": {},
   "source": [
    "# Name :- Soham Kadam\n",
    "# Roll No:- 22135\n",
    "# Batch :- F5"
   ]
  },
  {
   "cell_type": "code",
   "execution_count": 1,
   "id": "8c322b2c",
   "metadata": {},
   "outputs": [],
   "source": [
    "import pandas as pd"
   ]
  },
  {
   "cell_type": "code",
   "execution_count": 2,
   "id": "b1757240-7eeb-470a-85ee-7491ea9dd2f3",
   "metadata": {},
   "outputs": [],
   "source": [
    "roll_no=[]"
   ]
  },
  {
   "cell_type": "code",
   "execution_count": 3,
   "id": "22c3ac7e-d0fa-4fcb-a17c-53352e262ca6",
   "metadata": {},
   "outputs": [],
   "source": [
    "student_div=[]"
   ]
  },
  {
   "cell_type": "code",
   "execution_count": 4,
   "id": "677914d7-5c0a-45b2-b231-dec01ac2dd0d",
   "metadata": {},
   "outputs": [],
   "source": [
    "student_name=[]"
   ]
  },
  {
   "cell_type": "code",
   "execution_count": 5,
   "id": "883ac784-6676-402a-a66a-84dd44bbc2be",
   "metadata": {},
   "outputs": [],
   "source": [
    "marks=[]"
   ]
  },
  {
   "cell_type": "code",
   "execution_count": 6,
   "id": "ac46e40c-2ab2-4bde-a169-0312271ff570",
   "metadata": {},
   "outputs": [
    {
     "name": "stdin",
     "output_type": "stream",
     "text": [
      "How many records you want to enter 10\n"
     ]
    }
   ],
   "source": [
    "n=int(input('How many records you want to enter'))"
   ]
  },
  {
   "cell_type": "code",
   "execution_count": 7,
   "id": "22b500ab-b124-4a19-94a0-c2002cb1f49b",
   "metadata": {
    "scrolled": true
   },
   "outputs": [
    {
     "name": "stdout",
     "output_type": "stream",
     "text": [
      "\n",
      " 1 student\n",
      "\n",
      "Roll no=\n"
     ]
    },
    {
     "name": "stdin",
     "output_type": "stream",
     "text": [
      " 1\n"
     ]
    },
    {
     "name": "stdout",
     "output_type": "stream",
     "text": [
      "\n",
      "Div=\n"
     ]
    },
    {
     "name": "stdin",
     "output_type": "stream",
     "text": [
      " A\n"
     ]
    },
    {
     "name": "stdout",
     "output_type": "stream",
     "text": [
      "\n",
      "Name=\n"
     ]
    },
    {
     "name": "stdin",
     "output_type": "stream",
     "text": [
      " A\n"
     ]
    },
    {
     "name": "stdout",
     "output_type": "stream",
     "text": [
      "\n",
      "Marks=\n"
     ]
    },
    {
     "name": "stdin",
     "output_type": "stream",
     "text": [
      " 85\n"
     ]
    },
    {
     "name": "stdout",
     "output_type": "stream",
     "text": [
      "\n",
      " 2 student\n",
      "\n",
      "Roll no=\n"
     ]
    },
    {
     "name": "stdin",
     "output_type": "stream",
     "text": [
      " 2\n"
     ]
    },
    {
     "name": "stdout",
     "output_type": "stream",
     "text": [
      "\n",
      "Div=\n"
     ]
    },
    {
     "name": "stdin",
     "output_type": "stream",
     "text": [
      " A\n"
     ]
    },
    {
     "name": "stdout",
     "output_type": "stream",
     "text": [
      "\n",
      "Name=\n"
     ]
    },
    {
     "name": "stdin",
     "output_type": "stream",
     "text": [
      " B\n"
     ]
    },
    {
     "name": "stdout",
     "output_type": "stream",
     "text": [
      "\n",
      "Marks=\n"
     ]
    },
    {
     "name": "stdin",
     "output_type": "stream",
     "text": [
      " 92\n"
     ]
    },
    {
     "name": "stdout",
     "output_type": "stream",
     "text": [
      "\n",
      " 3 student\n",
      "\n",
      "Roll no=\n"
     ]
    },
    {
     "name": "stdin",
     "output_type": "stream",
     "text": [
      " 3\n"
     ]
    },
    {
     "name": "stdout",
     "output_type": "stream",
     "text": [
      "\n",
      "Div=\n"
     ]
    },
    {
     "name": "stdin",
     "output_type": "stream",
     "text": [
      " A\n"
     ]
    },
    {
     "name": "stdout",
     "output_type": "stream",
     "text": [
      "\n",
      "Name=\n"
     ]
    },
    {
     "name": "stdin",
     "output_type": "stream",
     "text": [
      " C\n"
     ]
    },
    {
     "name": "stdout",
     "output_type": "stream",
     "text": [
      "\n",
      "Marks=\n"
     ]
    },
    {
     "name": "stdin",
     "output_type": "stream",
     "text": [
      " 83\n"
     ]
    },
    {
     "name": "stdout",
     "output_type": "stream",
     "text": [
      "\n",
      " 4 student\n",
      "\n",
      "Roll no=\n"
     ]
    },
    {
     "name": "stdin",
     "output_type": "stream",
     "text": [
      " 4\n"
     ]
    },
    {
     "name": "stdout",
     "output_type": "stream",
     "text": [
      "\n",
      "Div=\n"
     ]
    },
    {
     "name": "stdin",
     "output_type": "stream",
     "text": [
      " A\n"
     ]
    },
    {
     "name": "stdout",
     "output_type": "stream",
     "text": [
      "\n",
      "Name=\n"
     ]
    },
    {
     "name": "stdin",
     "output_type": "stream",
     "text": [
      " D\n"
     ]
    },
    {
     "name": "stdout",
     "output_type": "stream",
     "text": [
      "\n",
      "Marks=\n"
     ]
    },
    {
     "name": "stdin",
     "output_type": "stream",
     "text": [
      " 91\n"
     ]
    },
    {
     "name": "stdout",
     "output_type": "stream",
     "text": [
      "\n",
      " 5 student\n",
      "\n",
      "Roll no=\n"
     ]
    },
    {
     "name": "stdin",
     "output_type": "stream",
     "text": [
      " 5\n"
     ]
    },
    {
     "name": "stdout",
     "output_type": "stream",
     "text": [
      "\n",
      "Div=\n"
     ]
    },
    {
     "name": "stdin",
     "output_type": "stream",
     "text": [
      " A\n"
     ]
    },
    {
     "name": "stdout",
     "output_type": "stream",
     "text": [
      "\n",
      "Name=\n"
     ]
    },
    {
     "name": "stdin",
     "output_type": "stream",
     "text": [
      " E\n"
     ]
    },
    {
     "name": "stdout",
     "output_type": "stream",
     "text": [
      "\n",
      "Marks=\n"
     ]
    },
    {
     "name": "stdin",
     "output_type": "stream",
     "text": [
      " 97\n"
     ]
    },
    {
     "name": "stdout",
     "output_type": "stream",
     "text": [
      "\n",
      " 6 student\n",
      "\n",
      "Roll no=\n"
     ]
    },
    {
     "name": "stdin",
     "output_type": "stream",
     "text": [
      " 6\n"
     ]
    },
    {
     "name": "stdout",
     "output_type": "stream",
     "text": [
      "\n",
      "Div=\n"
     ]
    },
    {
     "name": "stdin",
     "output_type": "stream",
     "text": [
      " A\n"
     ]
    },
    {
     "name": "stdout",
     "output_type": "stream",
     "text": [
      "\n",
      "Name=\n"
     ]
    },
    {
     "name": "stdin",
     "output_type": "stream",
     "text": [
      " F\n"
     ]
    },
    {
     "name": "stdout",
     "output_type": "stream",
     "text": [
      "\n",
      "Marks=\n"
     ]
    },
    {
     "name": "stdin",
     "output_type": "stream",
     "text": [
      " 84\n"
     ]
    },
    {
     "name": "stdout",
     "output_type": "stream",
     "text": [
      "\n",
      " 7 student\n",
      "\n",
      "Roll no=\n"
     ]
    },
    {
     "name": "stdin",
     "output_type": "stream",
     "text": [
      " 7\n"
     ]
    },
    {
     "name": "stdout",
     "output_type": "stream",
     "text": [
      "\n",
      "Div=\n"
     ]
    },
    {
     "name": "stdin",
     "output_type": "stream",
     "text": [
      " A\n"
     ]
    },
    {
     "name": "stdout",
     "output_type": "stream",
     "text": [
      "\n",
      "Name=\n"
     ]
    },
    {
     "name": "stdin",
     "output_type": "stream",
     "text": [
      " G\n"
     ]
    },
    {
     "name": "stdout",
     "output_type": "stream",
     "text": [
      "\n",
      "Marks=\n"
     ]
    },
    {
     "name": "stdin",
     "output_type": "stream",
     "text": [
      " 100\n"
     ]
    },
    {
     "name": "stdout",
     "output_type": "stream",
     "text": [
      "\n",
      " 8 student\n",
      "\n",
      "Roll no=\n"
     ]
    },
    {
     "name": "stdin",
     "output_type": "stream",
     "text": [
      " 8\n"
     ]
    },
    {
     "name": "stdout",
     "output_type": "stream",
     "text": [
      "\n",
      "Div=\n"
     ]
    },
    {
     "name": "stdin",
     "output_type": "stream",
     "text": [
      " A\n"
     ]
    },
    {
     "name": "stdout",
     "output_type": "stream",
     "text": [
      "\n",
      "Name=\n"
     ]
    },
    {
     "name": "stdin",
     "output_type": "stream",
     "text": [
      " H\n"
     ]
    },
    {
     "name": "stdout",
     "output_type": "stream",
     "text": [
      "\n",
      "Marks=\n"
     ]
    },
    {
     "name": "stdin",
     "output_type": "stream",
     "text": [
      " 96\n"
     ]
    },
    {
     "name": "stdout",
     "output_type": "stream",
     "text": [
      "\n",
      " 9 student\n",
      "\n",
      "Roll no=\n"
     ]
    },
    {
     "name": "stdin",
     "output_type": "stream",
     "text": [
      " 9\n"
     ]
    },
    {
     "name": "stdout",
     "output_type": "stream",
     "text": [
      "\n",
      "Div=\n"
     ]
    },
    {
     "name": "stdin",
     "output_type": "stream",
     "text": [
      " A\n"
     ]
    },
    {
     "name": "stdout",
     "output_type": "stream",
     "text": [
      "\n",
      "Name=\n"
     ]
    },
    {
     "name": "stdin",
     "output_type": "stream",
     "text": [
      " I\n"
     ]
    },
    {
     "name": "stdout",
     "output_type": "stream",
     "text": [
      "\n",
      "Marks=\n"
     ]
    },
    {
     "name": "stdin",
     "output_type": "stream",
     "text": [
      " 84\n"
     ]
    },
    {
     "name": "stdout",
     "output_type": "stream",
     "text": [
      "\n",
      " 10 student\n",
      "\n",
      "Roll no=\n"
     ]
    },
    {
     "name": "stdin",
     "output_type": "stream",
     "text": [
      " 10\n"
     ]
    },
    {
     "name": "stdout",
     "output_type": "stream",
     "text": [
      "\n",
      "Div=\n"
     ]
    },
    {
     "name": "stdin",
     "output_type": "stream",
     "text": [
      " A\n"
     ]
    },
    {
     "name": "stdout",
     "output_type": "stream",
     "text": [
      "\n",
      "Name=\n"
     ]
    },
    {
     "name": "stdin",
     "output_type": "stream",
     "text": [
      " J\n"
     ]
    },
    {
     "name": "stdout",
     "output_type": "stream",
     "text": [
      "\n",
      "Marks=\n"
     ]
    },
    {
     "name": "stdin",
     "output_type": "stream",
     "text": [
      " 100\n"
     ]
    }
   ],
   "source": [
    "for i in range(0,n):\n",
    "    print(\"\\n\",i+1,\"student\")\n",
    "    print(\"\\nRoll no=\")\n",
    "    rollno=int(input())\n",
    "    print(\"\\nDiv=\")\n",
    "    div=input()\n",
    "    print(\"\\nName=\")\n",
    "    name=input()\n",
    "    print(\"\\nMarks=\")\n",
    "    m=float(input())\n",
    "    roll_no.append(rollno)\n",
    "    student_div.append(div)\n",
    "    student_name.append(name)\n",
    "    marks.append(m)"
   ]
  },
  {
   "cell_type": "code",
   "execution_count": 8,
   "id": "4a2a0613-0cc4-4fcd-96d6-08a2cbdd65f8",
   "metadata": {},
   "outputs": [
    {
     "name": "stdout",
     "output_type": "stream",
     "text": [
      "Rollno= [1, 2, 3, 4, 5, 6, 7, 8, 9, 10]\n",
      "Student_Div= ['A', 'A', 'A', 'A', 'A', 'A', 'A', 'A', 'A', 'A']\n",
      "student_name= ['A', 'B', 'C', 'D', 'E', 'F', 'G', 'H', 'I', 'J']\n",
      "Marks= [85.0, 92.0, 83.0, 91.0, 97.0, 84.0, 100.0, 96.0, 84.0, 100.0]\n"
     ]
    }
   ],
   "source": [
    "print(\"Rollno=\",roll_no)\n",
    "print(\"Student_Div=\",student_div)\n",
    "print(\"student_name=\",student_name)\n",
    "print(\"Marks=\",marks)"
   ]
  },
  {
   "cell_type": "code",
   "execution_count": 9,
   "id": "a8f78232-20f7-4301-ae47-9e1c1b3ec13c",
   "metadata": {},
   "outputs": [],
   "source": [
    "df=pd.DataFrame({'rollno':roll_no,\n",
    "                'student_div':student_div,\n",
    "                'student_name':student_name,\n",
    "                'marks':marks})"
   ]
  },
  {
   "cell_type": "code",
   "execution_count": 10,
   "id": "31bd5fa0-2659-4374-9e31-cb00ffa099ce",
   "metadata": {},
   "outputs": [
    {
     "name": "stdout",
     "output_type": "stream",
     "text": [
      "   rollno student_div student_name  marks\n",
      "0       1           A            A   85.0\n",
      "1       2           A            B   92.0\n",
      "2       3           A            C   83.0\n",
      "3       4           A            D   91.0\n",
      "4       5           A            E   97.0\n",
      "5       6           A            F   84.0\n",
      "6       7           A            G  100.0\n",
      "7       8           A            H   96.0\n",
      "8       9           A            I   84.0\n",
      "9      10           A            J  100.0\n"
     ]
    }
   ],
   "source": [
    "print(df)"
   ]
  },
  {
   "cell_type": "code",
   "execution_count": 11,
   "id": "8a55a635-9460-42c6-9280-e4105b3863cc",
   "metadata": {},
   "outputs": [
    {
     "data": {
      "text/html": [
       "<div>\n",
       "<style scoped>\n",
       "    .dataframe tbody tr th:only-of-type {\n",
       "        vertical-align: middle;\n",
       "    }\n",
       "\n",
       "    .dataframe tbody tr th {\n",
       "        vertical-align: top;\n",
       "    }\n",
       "\n",
       "    .dataframe thead th {\n",
       "        text-align: right;\n",
       "    }\n",
       "</style>\n",
       "<table border=\"1\" class=\"dataframe\">\n",
       "  <thead>\n",
       "    <tr style=\"text-align: right;\">\n",
       "      <th></th>\n",
       "      <th>rollno</th>\n",
       "      <th>student_div</th>\n",
       "      <th>student_name</th>\n",
       "      <th>marks</th>\n",
       "    </tr>\n",
       "  </thead>\n",
       "  <tbody>\n",
       "    <tr>\n",
       "      <th>0</th>\n",
       "      <td>1</td>\n",
       "      <td>A</td>\n",
       "      <td>A</td>\n",
       "      <td>85.0</td>\n",
       "    </tr>\n",
       "    <tr>\n",
       "      <th>1</th>\n",
       "      <td>2</td>\n",
       "      <td>A</td>\n",
       "      <td>B</td>\n",
       "      <td>92.0</td>\n",
       "    </tr>\n",
       "    <tr>\n",
       "      <th>2</th>\n",
       "      <td>3</td>\n",
       "      <td>A</td>\n",
       "      <td>C</td>\n",
       "      <td>83.0</td>\n",
       "    </tr>\n",
       "    <tr>\n",
       "      <th>3</th>\n",
       "      <td>4</td>\n",
       "      <td>A</td>\n",
       "      <td>D</td>\n",
       "      <td>91.0</td>\n",
       "    </tr>\n",
       "    <tr>\n",
       "      <th>4</th>\n",
       "      <td>5</td>\n",
       "      <td>A</td>\n",
       "      <td>E</td>\n",
       "      <td>97.0</td>\n",
       "    </tr>\n",
       "    <tr>\n",
       "      <th>5</th>\n",
       "      <td>6</td>\n",
       "      <td>A</td>\n",
       "      <td>F</td>\n",
       "      <td>84.0</td>\n",
       "    </tr>\n",
       "    <tr>\n",
       "      <th>6</th>\n",
       "      <td>7</td>\n",
       "      <td>A</td>\n",
       "      <td>G</td>\n",
       "      <td>100.0</td>\n",
       "    </tr>\n",
       "    <tr>\n",
       "      <th>7</th>\n",
       "      <td>8</td>\n",
       "      <td>A</td>\n",
       "      <td>H</td>\n",
       "      <td>96.0</td>\n",
       "    </tr>\n",
       "    <tr>\n",
       "      <th>8</th>\n",
       "      <td>9</td>\n",
       "      <td>A</td>\n",
       "      <td>I</td>\n",
       "      <td>84.0</td>\n",
       "    </tr>\n",
       "    <tr>\n",
       "      <th>9</th>\n",
       "      <td>10</td>\n",
       "      <td>A</td>\n",
       "      <td>J</td>\n",
       "      <td>100.0</td>\n",
       "    </tr>\n",
       "  </tbody>\n",
       "</table>\n",
       "</div>"
      ],
      "text/plain": [
       "   rollno student_div student_name  marks\n",
       "0       1           A            A   85.0\n",
       "1       2           A            B   92.0\n",
       "2       3           A            C   83.0\n",
       "3       4           A            D   91.0\n",
       "4       5           A            E   97.0\n",
       "5       6           A            F   84.0\n",
       "6       7           A            G  100.0\n",
       "7       8           A            H   96.0\n",
       "8       9           A            I   84.0\n",
       "9      10           A            J  100.0"
      ]
     },
     "execution_count": 11,
     "metadata": {},
     "output_type": "execute_result"
    }
   ],
   "source": [
    "df"
   ]
  },
  {
   "cell_type": "code",
   "execution_count": 12,
   "id": "1d48880d-bed2-4158-92c5-49bcae0cb485",
   "metadata": {},
   "outputs": [],
   "source": [
    "path=r'file_22135.xlsx'"
   ]
  },
  {
   "cell_type": "code",
   "execution_count": 13,
   "id": "327ee8a3-d174-4188-9023-1c9003380a2a",
   "metadata": {},
   "outputs": [],
   "source": [
    "path1=r'file_22135.csv'"
   ]
  },
  {
   "cell_type": "code",
   "execution_count": 14,
   "id": "f548cb47-a46f-4dd0-bdd7-051fd73e6c95",
   "metadata": {},
   "outputs": [],
   "source": [
    "df.to_csv(path,index=0)"
   ]
  },
  {
   "cell_type": "code",
   "execution_count": 15,
   "id": "7e45fe44-b069-432b-bbdb-efdccc0ddb5d",
   "metadata": {},
   "outputs": [],
   "source": [
    "df.to_csv(path1,index=0)"
   ]
  }
 ],
 "metadata": {
  "kernelspec": {
   "display_name": "Python 3 (ipykernel)",
   "language": "python",
   "name": "python3"
  },
  "language_info": {
   "codemirror_mode": {
    "name": "ipython",
    "version": 3
   },
   "file_extension": ".py",
   "mimetype": "text/x-python",
   "name": "python",
   "nbconvert_exporter": "python",
   "pygments_lexer": "ipython3",
   "version": "3.12.7"
  }
 },
 "nbformat": 4,
 "nbformat_minor": 5
}
